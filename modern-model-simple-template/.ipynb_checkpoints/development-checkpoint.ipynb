{
 "cells": [
  {
   "cell_type": "markdown",
   "id": "059ae9f4",
   "metadata": {},
   "source": [
    "# LAMBDA FUNCTION"
   ]
  },
  {
   "cell_type": "code",
   "execution_count": null,
   "id": "7ea2549f",
   "metadata": {},
   "outputs": [],
   "source": [
    "import pickle\n",
    "import pandas as pd\n",
    "\n",
    "def load_and_test(data):\n",
    "\n",
    "    model = pickle.load(open(\"models/finalized_fl80_model.sav\", \"rb\"))\n",
    "    prediction = model.predict(pd.DataFrame(dict(data)[\"data\"])).tolist()\n",
    "\n",
    "    return {\"prediction\": prediction}\n",
    "\n",
    "def lambda_handler(event, context):\n",
    "    try:\n",
    "        return load_and_test(event)\n",
    "    except Exception as e:\n",
    "        raise"
   ]
  },
  {
   "cell_type": "markdown",
   "id": "af0f9d3a",
   "metadata": {},
   "source": [
    "# DEVELOPMENT & TEST"
   ]
  },
  {
   "cell_type": "code",
   "execution_count": 4,
   "id": "b46d21cf",
   "metadata": {},
   "outputs": [],
   "source": [
    "import pickle\n",
    "import pandas as pd\n",
    "import json"
   ]
  },
  {
   "cell_type": "code",
   "execution_count": 2,
   "id": "acb1519d",
   "metadata": {},
   "outputs": [],
   "source": [
    "model = pickle.load(open(\"models/finalized_fl80_model.sav\", \"rb\"))"
   ]
  },
  {
   "cell_type": "code",
   "execution_count": 6,
   "id": "34d0abb2",
   "metadata": {},
   "outputs": [],
   "source": [
    "f = open('data.json')\n",
    "data = json.load(f)"
   ]
  },
  {
   "cell_type": "code",
   "execution_count": 7,
   "id": "abf20376",
   "metadata": {},
   "outputs": [],
   "source": [
    "prediction = model.predict(pd.DataFrame(dict(data)[\"data\"])).tolist()"
   ]
  },
  {
   "cell_type": "code",
   "execution_count": 8,
   "id": "4066198c",
   "metadata": {},
   "outputs": [
    {
     "data": {
      "text/plain": [
       "[78.14524841308594]"
      ]
     },
     "execution_count": 8,
     "metadata": {},
     "output_type": "execute_result"
    }
   ],
   "source": [
    "prediction"
   ]
  },
  {
   "cell_type": "code",
   "execution_count": null,
   "id": "1436f095",
   "metadata": {},
   "outputs": [],
   "source": []
  }
 ],
 "metadata": {
  "kernelspec": {
   "display_name": "Python 3",
   "language": "python",
   "name": "python3"
  },
  "language_info": {
   "codemirror_mode": {
    "name": "ipython",
    "version": 3
   },
   "file_extension": ".py",
   "mimetype": "text/x-python",
   "name": "python",
   "nbconvert_exporter": "python",
   "pygments_lexer": "ipython3",
   "version": "3.8.8"
  }
 },
 "nbformat": 4,
 "nbformat_minor": 5
}
